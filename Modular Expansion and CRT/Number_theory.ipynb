{
  "nbformat": 4,
  "nbformat_minor": 0,
  "metadata": {
    "colab": {
      "name": "Number_theory.ipynb",
      "provenance": [],
      "collapsed_sections": [],
      "authorship_tag": "ABX9TyNdN+5C9NlSs0pu3reMVtDJ",
      "include_colab_link": true
    },
    "kernelspec": {
      "name": "python3",
      "display_name": "Python 3"
    },
    "language_info": {
      "name": "python"
    }
  },
  "cells": [
    {
      "cell_type": "markdown",
      "metadata": {
        "id": "view-in-github",
        "colab_type": "text"
      },
      "source": [
        "<a href=\"https://colab.research.google.com/github/Gonzales-James/Number_Theory/blob/main/Modular%20Expansion%20and%20CRT/Number_theory.ipynb\" target=\"_parent\"><img src=\"https://colab.research.google.com/assets/colab-badge.svg\" alt=\"Open In Colab\"/></a>"
      ]
    },
    {
      "cell_type": "markdown",
      "metadata": {
        "id": "hZjdIgQEE6qM"
      },
      "source": [
        "# Number Theory Activity\n",
        "\n",
        "\n",
        "| Submitted By:          | Instructor:               |\n",
        "|------------------------|---------------------------|\n",
        "| Carmelo, Mary Allyson  | Sir. Carlo Felipe Poblete |\n"
      ]
    },
    {
      "cell_type": "markdown",
      "metadata": {
        "id": "2yt1xTRrEmvr"
      },
      "source": [
        "**Modular Expansion**\n",
        "\n"
      ]
    },
    {
      "cell_type": "code",
      "metadata": {
        "id": "hZ30floG7KYp"
      },
      "source": [
        "def Modular_Expansion(a, b):\n",
        "  m = (int)(1e9+7)\n",
        "  ans = pow(a, b, m)\n",
        "  return print(\"Answer: \", ans)"
      ],
      "execution_count": 1,
      "outputs": []
    },
    {
      "cell_type": "markdown",
      "metadata": {
        "id": "2pHMBvJxF0jy"
      },
      "source": [
        "**Chinese Remainder Theorem**"
      ]
    },
    {
      "cell_type": "code",
      "metadata": {
        "id": "_qPRut_iteEP"
      },
      "source": [
        "# GCD of 2 Integers\n",
        "def gcd(p, q): \n",
        "      \n",
        "    if q == 0: \n",
        "        return p \n",
        "          \n",
        "    return gcd(q, p % q) \n",
        "  \n",
        "# LCM Of 2 Integers \n",
        "def lcm(p, q): \n",
        "    return p * q / gcd(p, q) \n",
        "  \n",
        "#Extended Euclidean Algorithm \n",
        "def egcd(e, phi): \n",
        "      \n",
        "    if e == 0: \n",
        "        return (phi, 0, 1) \n",
        "    else: \n",
        "        g, y, x = egcd(phi % e, e) \n",
        "        return (g, x - (phi // e) * y, y) \n",
        "  \n",
        "# Modular Inverse\n",
        "def modinv(e, phi): \n",
        "      \n",
        "    g, x, y = egcd(e, phi) \n",
        "    return x % phi \n",
        "\n",
        "#Chinese Remainder Theorem\n",
        "def CRT(e, p, q, c): \n",
        "    d = int(modinv(e, lcm(p - 1, q - 1))) \n",
        "    dq = pow(d, 1, q - 1) \n",
        "    dp = pow(d, 1, p - 1)  \n",
        "\n",
        "    # Message part 1 \n",
        "    m1 = pow(c, dp, p) \n",
        "      \n",
        "    # Message part 2 \n",
        "    m2 = pow(c, dq, q) \n",
        "      \n",
        "    qinv = modinv(q, p) \n",
        "    h = (qinv * (m1 - m2)) % p \n",
        "    m = m2 + h * q \n",
        "    return print(\"Answer: \", m) "
      ],
      "execution_count": 2,
      "outputs": []
    },
    {
      "cell_type": "code",
      "metadata": {
        "id": "IZxY3q3TuDPv"
      },
      "source": [
        "def c(m, e, p, q):\n",
        "  c = pow(m, e) % (p * q)\n",
        "  return print(\"c =\", c)"
      ],
      "execution_count": 3,
      "outputs": []
    },
    {
      "cell_type": "code",
      "metadata": {
        "colab": {
          "base_uri": "https://localhost:8080/"
        },
        "id": "ZaTUQxKZ7pIl",
        "outputId": "3a09a299-2704-481b-81ba-615c94d28f0a"
      },
      "source": [
        "Modular_Expansion(5, 100)"
      ],
      "execution_count": 4,
      "outputs": [
        {
          "output_type": "stream",
          "name": "stdout",
          "text": [
            "Answer:  146981449\n"
          ]
        }
      ]
    },
    {
      "cell_type": "code",
      "metadata": {
        "colab": {
          "base_uri": "https://localhost:8080/"
        },
        "id": "N1ckSLzQAUi4",
        "outputId": "3bb09abe-b812-467b-b052-8489660f8df3"
      },
      "source": [
        "CRT(65537 , 53, 31, 1614)"
      ],
      "execution_count": 5,
      "outputs": [
        {
          "output_type": "stream",
          "name": "stdout",
          "text": [
            "Answer:  1372\n"
          ]
        }
      ]
    },
    {
      "cell_type": "code",
      "metadata": {
        "colab": {
          "base_uri": "https://localhost:8080/"
        },
        "id": "hWf1UkIQwVf6",
        "outputId": "cd7a8b90-0cc1-46dc-8468-7fe6463dbb47"
      },
      "source": [
        "c(1372, 65537, 53, 31)"
      ],
      "execution_count": 6,
      "outputs": [
        {
          "output_type": "stream",
          "name": "stdout",
          "text": [
            "c = 1614\n"
          ]
        }
      ]
    },
    {
      "cell_type": "code",
      "metadata": {
        "colab": {
          "base_uri": "https://localhost:8080/"
        },
        "id": "eoDvY4gAD3-S",
        "outputId": "a8b86a87-98fc-4e4c-fc10-435915ca569e"
      },
      "source": [
        "CRT(101 , 3191, 3203, 3893595)"
      ],
      "execution_count": 7,
      "outputs": [
        {
          "output_type": "stream",
          "name": "stdout",
          "text": [
            "Answer:  6574839\n"
          ]
        }
      ]
    },
    {
      "cell_type": "code",
      "metadata": {
        "colab": {
          "base_uri": "https://localhost:8080/"
        },
        "id": "GepjehRqEPIl",
        "outputId": "d230f6d8-dc65-4926-a34f-22a27e452916"
      },
      "source": [
        "c(6574839, 101, 3191, 3203)"
      ],
      "execution_count": 8,
      "outputs": [
        {
          "output_type": "stream",
          "name": "stdout",
          "text": [
            "c = 3893595\n"
          ]
        }
      ]
    }
  ]
}